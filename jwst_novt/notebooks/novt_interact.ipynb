{
 "cells": [
  {
   "cell_type": "markdown",
   "metadata": {
    "tags": []
   },
   "source": [
    "# JWST NIRSpec Observation Visualization Tool (NOVT): Interactive Tools\n",
    "-----------------------------------------------------------------------\n",
    "**Author**: Melanie Clarke (mclarke@stsci.edu) | **Latest update**: October 14, 2025.\n",
    "<a class=\"anchor\" id=\"title\"></a>\n",
    "\n",
    "## Notebook Goals\n",
    "Use interactive NOVT tools to determine NIRSpec and NIRCam apertures and\n",
    "visibility for a specific target within a range of dates.\n"
   ]
  },
  {
   "cell_type": "markdown",
   "metadata": {},
   "source": [
    "## Table of contents\n",
    "1. [Introduction](#intro)\n",
    "2. [Read in data](#data)\n",
    "3. [Determine visibility ranges](#visibility)\n",
    "4. [Set aperture locations](#apertures)\n",
    "5. [Check target coverage](#targets)\n",
    "6. [Save DS9 regions](#regions)"
   ]
  },
  {
   "cell_type": "markdown",
   "metadata": {},
   "source": [
    "<a class=\"anchor\" id=\"intro\"></a>\n",
    "## Introduction\n",
    "\n",
    "The NOVT package contains tools intended to assist in visualizing and planning NIRSpec observations, especially for multi-object spectroscopy (MOS) observations that require NIRCam pre-imaging observations.\n",
    "\n",
    "STScI plans to host a web application that uses NOVT tools to plot target visibility and display NIRSpec and NIRCam apertures over a FITS image.  This notebook demonstrates how to use the same tools in a local Jupyter server, allowing you to use the application without uploading your data across the internet."
   ]
  },
  {
   "cell_type": "markdown",
   "metadata": {},
   "source": [
    "To start, we import some necessary packages."
   ]
  },
  {
   "cell_type": "code",
   "execution_count": null,
   "metadata": {
    "ExecuteTime": {
     "end_time": "2023-05-18T15:14:59.984890Z",
     "start_time": "2023-05-18T15:14:58.068413Z"
    },
    "collapsed": false,
    "jupyter": {
     "outputs_hidden": false
    },
    "tags": []
   },
   "outputs": [],
   "source": [
    "from astropy.io import fits\n",
    "from astropy.utils.data import download_file\n",
    "from astropy.wcs import WCS\n",
    "from jdaviz import Imviz\n",
    "\n",
    "from jwst_novt.interact import (\n",
    "    ControlInstruments,\n",
    "    SaveOverlays,\n",
    "    ShowOverlays,\n",
    "    ShowTimeline,\n",
    "    UploadData,\n",
    ")"
   ]
  },
  {
   "cell_type": "markdown",
   "metadata": {},
   "source": [
    "<a class=\"anchor\" id=\"data\"></a>\n",
    "## Read in data\n",
    "For this example, we will use a FITS image of M51 (NGC 5194 and NGC 5195) and an associated catalog of sources. The following commands will download the data and cache it locally for you to use."
   ]
  },
  {
   "cell_type": "code",
   "execution_count": null,
   "metadata": {
    "ExecuteTime": {
     "end_time": "2023-05-18T15:15:01.556777Z",
     "start_time": "2023-05-18T15:15:01.546181Z"
    },
    "collapsed": false,
    "jupyter": {
     "outputs_hidden": false
    },
    "tags": []
   },
   "outputs": [],
   "source": [
    "image_link = (\n",
    "    \"https://archive.stsci.edu/hlsps/legus/mosaics/ngc5194_ngc5195/\"\n",
    "    \"hlsp_legus_hst_acs_ngc5194-ngc5195-mosaic_f814w_v1_sci.fits\"\n",
    ")\n",
    "image_file = download_file(image_link, cache=True)\n",
    "\n",
    "catalog_link = (\n",
    "    \"https://jwst-docs.stsci.edu/files/154687319/154687335/1/1714071871209/m51.radec\"\n",
    ")\n",
    "catalog_file = download_file(catalog_link, cache=True)"
   ]
  },
  {
   "cell_type": "markdown",
   "metadata": {},
   "source": [
    "Let's read in the file as an HDUList and get a reference position from the associated WCS."
   ]
  },
  {
   "cell_type": "code",
   "execution_count": null,
   "metadata": {
    "ExecuteTime": {
     "end_time": "2023-05-18T15:15:02.926761Z",
     "start_time": "2023-05-18T15:15:02.868687Z"
    }
   },
   "outputs": [],
   "source": [
    "image_hdul = fits.open(image_file)\n",
    "image_wcs = WCS(image_hdul[0].header)\n",
    "ra, dec = image_wcs.wcs.crval\n",
    "print(f\"Starting position: {ra}, {dec}\")"
   ]
  },
  {
   "cell_type": "markdown",
   "metadata": {},
   "source": [
    "NOVT uses the Imviz display tool to show instrument footprints as overlays on FITS images. We can make an Imviz instance directly and load our data into it."
   ]
  },
  {
   "cell_type": "code",
   "execution_count": null,
   "metadata": {},
   "outputs": [],
   "source": [
    "viz = Imviz()\n",
    "viz.load_data(image_hdul, data_label=\"M51\")\n",
    "viz.show()"
   ]
  },
  {
   "cell_type": "markdown",
   "metadata": {},
   "source": [
    "<a class=\"anchor\" id=\"visibility\"></a>\n",
    "## Determine visibility ranges\n",
    "\n",
    "JWST has ranges of time for which a particular target is visible. Within those ranges, the position angle (PA) for an instrument is tightly constrained. We use the NOVT timeline function to derive periods of visibility and the PA for NIRSpec and NIRCam during those times.\n",
    "\n",
    "Note that this function uses astroquery to find a current ephemeris for JWST, so an internet connection is required to run it."
   ]
  },
  {
   "cell_type": "markdown",
   "metadata": {},
   "source": [
    "NOVT interaction tools are classes with displayable widgets in the `widgets` attribute. We can use the timeline widget to create and show a visibility plot for our target position."
   ]
  },
  {
   "cell_type": "code",
   "execution_count": null,
   "metadata": {
    "ExecuteTime": {
     "end_time": "2023-05-18T15:15:05.826101Z",
     "start_time": "2023-05-18T15:15:05.821594Z"
    },
    "collapsed": false,
    "jupyter": {
     "outputs_hidden": false
    },
    "tags": []
   },
   "outputs": [],
   "source": [
    "timeline_controls = ShowTimeline()\n",
    "timeline_controls.ra = ra\n",
    "timeline_controls.dec = dec\n",
    "timeline_controls.widgets"
   ]
  },
  {
   "cell_type": "markdown",
   "metadata": {},
   "source": [
    "Click `Make Timeline Plot` to show the periods of visibility and assigned position angles for NIRSpec and NIRCam over the coming year. Edit the start and end dates to change the displayed date range, or use the buttons at the bottom of the plot to zoom in on a particular time.\n",
    "\n",
    "Note that as you zoom or pan, the legend will update with the average angle for each instrument in the date range displayed."
   ]
  },
  {
   "cell_type": "markdown",
   "metadata": {},
   "source": [
    "<a class=\"anchor\" id=\"apertures\"></a>\n",
    "## Set aperture locations\n",
    "\n",
    "We can use NOVT tools to project JWST instrument apertures onto the sky at a given target location and with a specified position angle.\n",
    "\n",
    "Target location and PA are set separately for NIRSpec and NIRCam, to allow optimization of particular pointings in planning the NIRCam pre-imaging, and to explore a range of possible position angles set by the observation timing."
   ]
  },
  {
   "cell_type": "markdown",
   "metadata": {},
   "source": [
    "We use NOVT to make some interactive controls for the NIRSpec and NIRCam apertures.  These are linked to the Imviz instance we created above. The instrument center is automatically populated with the reference RA and Dec from the image we loaded."
   ]
  },
  {
   "cell_type": "code",
   "execution_count": null,
   "metadata": {
    "ExecuteTime": {
     "end_time": "2023-05-18T15:15:13.145527Z",
     "start_time": "2023-05-18T15:15:13.114817Z"
    }
   },
   "outputs": [],
   "source": [
    "nirspec_controls = ControlInstruments(\"NIRSpec\", viz)\n",
    "nirspec_controls.widgets"
   ]
  },
  {
   "cell_type": "code",
   "execution_count": null,
   "metadata": {
    "ExecuteTime": {
     "end_time": "2023-05-18T15:15:13.145527Z",
     "start_time": "2023-05-18T15:15:13.114817Z"
    }
   },
   "outputs": [],
   "source": [
    "nircam_controls = ControlInstruments(\"NIRCam\", viz)\n",
    "nircam_controls.widgets"
   ]
  },
  {
   "cell_type": "markdown",
   "metadata": {},
   "source": [
    "Add some control buttons to show the instrument overlays. These buttons need to know about the data loaded into the viewer, as well as the state of the instrument controls."
   ]
  },
  {
   "cell_type": "code",
   "execution_count": null,
   "metadata": {},
   "outputs": [],
   "source": [
    "uploaded_data = UploadData(viz)\n",
    "uploaded_data.image_file_name = image_file\n",
    "uploaded_data.has_wcs = True\n",
    "\n",
    "overlay_controls = ShowOverlays(viz, uploaded_data, nirspec_controls, nircam_controls)\n",
    "overlay_controls.widgets"
   ]
  },
  {
   "cell_type": "markdown",
   "metadata": {},
   "source": [
    "Try pressing the control buttons to show the instrument overlays in the Imviz viewer, above.  It may help to pop the viewer into a new window, using the button at the top of the Imviz viewer."
   ]
  },
  {
   "cell_type": "markdown",
   "metadata": {},
   "source": [
    "Check the timeline plot for the range of PA values for NIRCam and NIRSpec in the date range you are interested in. Enter these values into the PA widgets in the instrument controls, above.  The displayed footprint in the viewer should change to match. You can also tweak the center position for each instrument or add dithers or mosaic offsets for NIRCam."
   ]
  },
  {
   "cell_type": "markdown",
   "metadata": {},
   "source": [
    "<a class=\"anchor\" id=\"targets\"></a>\n",
    "## Check target coverage\n",
    "\n",
    "Instrument aperture regions can be used to check whether particular sources are covered by both the NIRSpec MSA apertures and the NIRCam apertures for pre-imaging.\n",
    "\n",
    "If you have a source catalog in .radec form, the NOVT tools can read it in and create regions identifying the specified sources. This file should have the form of a text file with two or three columns, where the first is RA in degrees, the second is Dec in degrees, and the optional third column flags sources as either primary ('P') or filler ('F')."
   ]
  },
  {
   "cell_type": "markdown",
   "metadata": {},
   "source": [
    "NOVT tracks catalog files in the uploaded data controls. Let's specify our example catalog."
   ]
  },
  {
   "cell_type": "code",
   "execution_count": null,
   "metadata": {},
   "outputs": [],
   "source": [
    "uploaded_data.has_catalog = True\n",
    "uploaded_data.catalog_file = catalog_file"
   ]
  },
  {
   "cell_type": "markdown",
   "metadata": {},
   "source": [
    "Notice that the buttons above, for primary and filler sources, are now enabled. Try pressing them to show the source locations in the viewer."
   ]
  },
  {
   "cell_type": "markdown",
   "metadata": {},
   "source": [
    "<a class=\"anchor\" id=\"regions\"></a>\n",
    "## Save regions\n",
    "\n",
    "Regions produced by the NOVT functions can be saved to disk using the astropy regions <a href=\"https://astropy-regions.readthedocs.io/en/stable/region_io.html\">I/O functionality</a>."
   ]
  },
  {
   "cell_type": "markdown",
   "metadata": {},
   "source": [
    "We can make a set of regions from the currently configured display."
   ]
  },
  {
   "cell_type": "code",
   "execution_count": null,
   "metadata": {
    "ExecuteTime": {
     "end_time": "2023-05-17T22:57:46.844496Z",
     "start_time": "2023-05-17T22:57:46.823456Z"
    },
    "collapsed": false,
    "jupyter": {
     "outputs_hidden": false
    },
    "tags": []
   },
   "outputs": [],
   "source": [
    "save_controls = SaveOverlays(overlay_controls)\n",
    "all_regions = save_controls.make_regions()"
   ]
  },
  {
   "cell_type": "markdown",
   "metadata": {},
   "source": [
    "We can save these directly to disk in DS9 format with the write function. This method will also support saving regions in 'fits' or 'crtf' format."
   ]
  },
  {
   "cell_type": "code",
   "execution_count": null,
   "metadata": {
    "ExecuteTime": {
     "end_time": "2023-05-17T22:57:46.866216Z",
     "start_time": "2023-05-17T22:57:46.832053Z"
    },
    "collapsed": false,
    "jupyter": {
     "outputs_hidden": false
    },
    "tags": []
   },
   "outputs": [],
   "source": [
    "all_regions.write(\"novt_overlays.reg\", format=\"ds9\", overwrite=True)"
   ]
  },
  {
   "cell_type": "markdown",
   "metadata": {},
   "source": [
    "However, this function does not currently preserve style information, which makes our regions hard to distinguish in DS9. We can patch it in by serializing the regions to text first, then editing the text to include color and point marker shape."
   ]
  },
  {
   "cell_type": "code",
   "execution_count": null,
   "metadata": {},
   "outputs": [],
   "source": [
    "colors = {\n",
    "    \"NIRSpec\": nirspec_controls.color_primary,\n",
    "    \"NIRCam Short\": nircam_controls.color_primary,\n",
    "    \"NIRCam Long\": nircam_controls.color_alternate,\n",
    "    \"primary\": uploaded_data.color_primary,\n",
    "    \"filler\": uploaded_data.color_alternate,\n",
    "}\n",
    "markers = {\n",
    "    \"NIRSpec\": \"cross\",\n",
    "    \"NIRCam Short\": \"cross\",\n",
    "    \"NIRCam Long\": \"cross\",\n",
    "    \"primary\": \"circle\",\n",
    "    \"filler\": \"circle\",\n",
    "}\n",
    "region_text = all_regions.serialize(format=\"ds9\")\n",
    "for inst, value in colors.items():\n",
    "    region_text = region_text.replace(\n",
    "        f\"tag={{{inst}}}\", f\"tag={{{inst}}} color={value} point={markers[inst]}\"\n",
    "    )\n",
    "with open(\"novt_overlays_with_color.reg\", \"w\") as reg_file:\n",
    "    reg_file.write(region_text)"
   ]
  },
  {
   "cell_type": "markdown",
   "metadata": {},
   "source": [
    "If you prefer, NOVT has widgets you can use to automatically generate DS9 regions and patch in the style information. Click `Make Region File`, then `Download` to retrieve the file.\n",
    "\n",
    "Formats other than DS9 are not currently supported."
   ]
  },
  {
   "cell_type": "code",
   "execution_count": null,
   "metadata": {},
   "outputs": [],
   "source": [
    "save_controls.widgets"
   ]
  },
  {
   "cell_type": "markdown",
   "metadata": {},
   "source": [
    "[Top of Page](#title)\n"
   ]
  }
 ],
 "metadata": {
  "kernelspec": {
   "display_name": "Python 3 (ipykernel)",
   "language": "python",
   "name": "python3"
  },
  "language_info": {
   "codemirror_mode": {
    "name": "ipython",
    "version": 3
   },
   "file_extension": ".py",
   "mimetype": "text/x-python",
   "name": "python",
   "nbconvert_exporter": "python",
   "pygments_lexer": "ipython3",
   "version": "3.11.3"
  }
 },
 "nbformat": 4,
 "nbformat_minor": 4
}
